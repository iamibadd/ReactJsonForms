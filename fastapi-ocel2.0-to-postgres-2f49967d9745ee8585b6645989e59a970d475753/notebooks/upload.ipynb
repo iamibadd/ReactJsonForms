{
 "cells": [
  {
   "cell_type": "code",
   "execution_count": 3,
   "metadata": {},
   "outputs": [],
   "source": [
    "import pandas as pd\n",
    "import json\n",
    "import requests"
   ]
  },
  {
   "cell_type": "code",
   "execution_count": 4,
   "metadata": {},
   "outputs": [
    {
     "name": "stdout",
     "output_type": "stream",
     "text": [
      "Data uploaded successfully.\n",
      "{'message': 'Data stored successfully'}\n"
     ]
    }
   ],
   "source": [
    "# The URL of the FastAPI endpoint\n",
    "url = \"http://127.0.0.1:8000/api/items/create\"\n",
    "\n",
    "# Load your JSON data from a file\n",
    "with open('./data/trials-old/transformed_data.json', 'r') as file:\n",
    "    json_data = json.load(file)\n",
    "\n",
    "# Make a POST request to upload the data\n",
    "response = requests.post(url, json=json_data)\n",
    "\n",
    "# Check if the request was successful\n",
    "if response.status_code == 201:\n",
    "    print(\"Data uploaded successfully.\")\n",
    "    print(response.json())  # Assuming the API returns a JSON response\n",
    "else:\n",
    "    print(f\"Failed to upload data. Status code: {response.status_code}\")\n",
    "    print(response.text)  # Print the error message, if any"
   ]
  },
  {
   "cell_type": "code",
   "execution_count": null,
   "metadata": {},
   "outputs": [],
   "source": []
  }
 ],
 "metadata": {
  "kernelspec": {
   "display_name": "Python 3",
   "language": "python",
   "name": "python3"
  },
  "language_info": {
   "codemirror_mode": {
    "name": "ipython",
    "version": 3
   },
   "file_extension": ".py",
   "mimetype": "text/x-python",
   "name": "python",
   "nbconvert_exporter": "python",
   "pygments_lexer": "ipython3",
   "version": "3.11.5"
  }
 },
 "nbformat": 4,
 "nbformat_minor": 2
}
